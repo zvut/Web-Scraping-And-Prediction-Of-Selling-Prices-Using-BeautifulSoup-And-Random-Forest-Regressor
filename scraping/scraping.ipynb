{
 "cells": [
  {
   "cell_type": "code",
   "execution_count": 74,
   "id": "invisible-worship",
   "metadata": {},
   "outputs": [],
   "source": [
    "import bs4 as bs\n",
    "from urllib.request import Request, urlopen\n",
    "import pandas as pd\n"
   ]
  },
  {
   "cell_type": "code",
   "execution_count": 75,
   "id": "floral-tension",
   "metadata": {},
   "outputs": [],
   "source": [
    "website = \"https://www.thecarconnection.com\"\n",
    "def fetch(hostname, filename):\n",
    "    return bs.BeautifulSoup(urlopen(Request(hostname + filename, headers={'User-Agent': 'X'})).read(), 'html.parser')\n",
    "\n",
    "def all_makes():\n",
    "    all_makes_list = []\n",
    "    for a in fetch(website,\"/new-cars\").find_all(\"a\", {\"class\": \"add-zip\"}):\n",
    "        all_makes_list.append(a['href'])\n",
    "    return all_makes_list\n",
    "\n",
    "def make_menu():\n",
    "    make_menu_list = []\n",
    "    for make in all_makes():\n",
    "        for div in fetch(website, make).find_all(\"div\", {\"class\": \"vhc-name\"}):\n",
    "            make_menu_list.append(div.find_all(\"a\")[0]['href'])\n",
    "    return make_menu_list\n",
    "\n"
   ]
  },
  {
   "cell_type": "code",
   "execution_count": 76,
   "id": "monthly-holder",
   "metadata": {},
   "outputs": [],
   "source": [
    "def model_menu():\n",
    "    model_menu_list = []\n",
    "    for make in make_menu():\n",
    "        soup = fetch(website, make)\n",
    "        for div in soup.find_all(\"a\", {\"class\":\"btn avail-now first-item\"}):\n",
    "            model_menu_list.append(div['href'])\n",
    "        for div in soup.find_all(\"a\", {\"class\": \"btn 1\"}):\n",
    "            model_menu_list.append(div['href'])\n",
    "    return model_menu_list"
   ]
  },
  {
   "cell_type": "code",
   "execution_count": 77,
   "id": "judicial-somewhere",
   "metadata": {},
   "outputs": [],
   "source": [
    "def year_model_overview():\n",
    "    year_model_overview_list = []\n",
    "    for make in model_menu():\n",
    "        for id in fetch(website,make).find_all(\"a\", {\"id\": \"ymm-nav-specs-btn\"}):\n",
    "            year_model_overview().append(id[ 'href'])\n",
    "    year_model_overview_list.remove(\"/specifications/buick_enclave_2021_fwd-4dr-preferred\")\n",
    "    return year_model_overview_list"
   ]
  },
  {
   "cell_type": "code",
   "execution_count": 78,
   "id": "minus-destiny",
   "metadata": {},
   "outputs": [],
   "source": [
    "def trims():\n",
    "    trim_list = []\n",
    "    for row in year_model_overview():\n",
    "        div = fetch(website, row).find_all(\"div\", {\"class\": \"block-inner\"})[-1]\n",
    "        div_a = div.find_all(\"a\")\n",
    "        for i in range(len(div_a)):\n",
    "            trim_list.append(div_a[-i]['href'])\n",
    "    return trim_list"
   ]
  },
  {
   "cell_type": "code",
   "execution_count": 79,
   "id": "executed-virtue",
   "metadata": {},
   "outputs": [
    {
     "ename": "ValueError",
     "evalue": "list.remove(x): x not in list",
     "output_type": "error",
     "traceback": [
      "\u001b[0;31m---------------------------------------------------------------------------\u001b[0m",
      "\u001b[0;31mValueError\u001b[0m                                Traceback (most recent call last)",
      "\u001b[0;32m<ipython-input-79-a03fe2137368>\u001b[0m in \u001b[0;36m<module>\u001b[0;34m\u001b[0m\n\u001b[0;32m----> 1\u001b[0;31m \u001b[0mpd\u001b[0m\u001b[0;34m.\u001b[0m\u001b[0mDataFrame\u001b[0m\u001b[0;34m(\u001b[0m\u001b[0mtrims\u001b[0m\u001b[0;34m(\u001b[0m\u001b[0;34m)\u001b[0m\u001b[0;34m)\u001b[0m\u001b[0;34m.\u001b[0m\u001b[0mto_csv\u001b[0m\u001b[0;34m(\u001b[0m\u001b[0mindex\u001b[0m\u001b[0;34m=\u001b[0m\u001b[0;32mFalse\u001b[0m\u001b[0;34m,\u001b[0m \u001b[0mheader\u001b[0m\u001b[0;34m=\u001b[0m\u001b[0;32mNone\u001b[0m\u001b[0;34m)\u001b[0m\u001b[0;34m\u001b[0m\u001b[0;34m\u001b[0m\u001b[0m\n\u001b[0m\u001b[1;32m      2\u001b[0m \u001b[0;34m\u001b[0m\u001b[0m\n\u001b[1;32m      3\u001b[0m \u001b[0mtrims\u001b[0m \u001b[0;34m=\u001b[0m \u001b[0mpd\u001b[0m\u001b[0;34m.\u001b[0m\u001b[0mread_csv\u001b[0m\u001b[0;34m(\u001b[0m\u001b[0;34m)\u001b[0m\u001b[0;34m\u001b[0m\u001b[0;34m\u001b[0m\u001b[0m\n",
      "\u001b[0;32m<ipython-input-78-1de78215bfc2>\u001b[0m in \u001b[0;36mtrims\u001b[0;34m()\u001b[0m\n\u001b[1;32m      1\u001b[0m \u001b[0;32mdef\u001b[0m \u001b[0mtrims\u001b[0m\u001b[0;34m(\u001b[0m\u001b[0;34m)\u001b[0m\u001b[0;34m:\u001b[0m\u001b[0;34m\u001b[0m\u001b[0;34m\u001b[0m\u001b[0m\n\u001b[1;32m      2\u001b[0m     \u001b[0mtrim_list\u001b[0m \u001b[0;34m=\u001b[0m \u001b[0;34m[\u001b[0m\u001b[0;34m]\u001b[0m\u001b[0;34m\u001b[0m\u001b[0;34m\u001b[0m\u001b[0m\n\u001b[0;32m----> 3\u001b[0;31m     \u001b[0;32mfor\u001b[0m \u001b[0mrow\u001b[0m \u001b[0;32min\u001b[0m \u001b[0myear_model_overview\u001b[0m\u001b[0;34m(\u001b[0m\u001b[0;34m)\u001b[0m\u001b[0;34m:\u001b[0m\u001b[0;34m\u001b[0m\u001b[0;34m\u001b[0m\u001b[0m\n\u001b[0m\u001b[1;32m      4\u001b[0m         \u001b[0mdiv\u001b[0m \u001b[0;34m=\u001b[0m \u001b[0mfetch\u001b[0m\u001b[0;34m(\u001b[0m\u001b[0mwebsite\u001b[0m\u001b[0;34m,\u001b[0m \u001b[0mrow\u001b[0m\u001b[0;34m)\u001b[0m\u001b[0;34m.\u001b[0m\u001b[0mfind_all\u001b[0m\u001b[0;34m(\u001b[0m\u001b[0;34m\"div\"\u001b[0m\u001b[0;34m,\u001b[0m \u001b[0;34m{\u001b[0m\u001b[0;34m\"class\"\u001b[0m\u001b[0;34m:\u001b[0m \u001b[0;34m\"block-inner\"\u001b[0m\u001b[0;34m}\u001b[0m\u001b[0;34m)\u001b[0m\u001b[0;34m[\u001b[0m\u001b[0;34m-\u001b[0m\u001b[0;36m1\u001b[0m\u001b[0;34m]\u001b[0m\u001b[0;34m\u001b[0m\u001b[0;34m\u001b[0m\u001b[0m\n\u001b[1;32m      5\u001b[0m         \u001b[0mdiv_a\u001b[0m \u001b[0;34m=\u001b[0m \u001b[0mdiv\u001b[0m\u001b[0;34m.\u001b[0m\u001b[0mfind_all\u001b[0m\u001b[0;34m(\u001b[0m\u001b[0;34m\"a\"\u001b[0m\u001b[0;34m)\u001b[0m\u001b[0;34m\u001b[0m\u001b[0;34m\u001b[0m\u001b[0m\n",
      "\u001b[0;32m<ipython-input-77-3e65647b6935>\u001b[0m in \u001b[0;36myear_model_overview\u001b[0;34m()\u001b[0m\n\u001b[1;32m      4\u001b[0m         \u001b[0;32mfor\u001b[0m \u001b[0mid\u001b[0m \u001b[0;32min\u001b[0m \u001b[0mfetch\u001b[0m\u001b[0;34m(\u001b[0m\u001b[0mwebsite\u001b[0m\u001b[0;34m,\u001b[0m\u001b[0mmake\u001b[0m\u001b[0;34m)\u001b[0m\u001b[0;34m.\u001b[0m\u001b[0mfind_all\u001b[0m\u001b[0;34m(\u001b[0m\u001b[0;34m\"a\"\u001b[0m\u001b[0;34m,\u001b[0m \u001b[0;34m{\u001b[0m\u001b[0;34m\"id\"\u001b[0m\u001b[0;34m:\u001b[0m \u001b[0;34m\"ymm-nav-specs-btn\"\u001b[0m\u001b[0;34m}\u001b[0m\u001b[0;34m)\u001b[0m\u001b[0;34m:\u001b[0m\u001b[0;34m\u001b[0m\u001b[0;34m\u001b[0m\u001b[0m\n\u001b[1;32m      5\u001b[0m             \u001b[0myear_model_overview\u001b[0m\u001b[0;34m(\u001b[0m\u001b[0;34m)\u001b[0m\u001b[0;34m.\u001b[0m\u001b[0mappend\u001b[0m\u001b[0;34m(\u001b[0m\u001b[0mid\u001b[0m\u001b[0;34m[\u001b[0m \u001b[0;34m'href'\u001b[0m\u001b[0;34m]\u001b[0m\u001b[0;34m)\u001b[0m\u001b[0;34m\u001b[0m\u001b[0;34m\u001b[0m\u001b[0m\n\u001b[0;32m----> 6\u001b[0;31m     \u001b[0myear_model_overview_list\u001b[0m\u001b[0;34m.\u001b[0m\u001b[0mremove\u001b[0m\u001b[0;34m(\u001b[0m\u001b[0;34m\"/specifications/buick_enclave_2021_fwd-4dr-preferred\"\u001b[0m\u001b[0;34m)\u001b[0m\u001b[0;34m\u001b[0m\u001b[0;34m\u001b[0m\u001b[0m\n\u001b[0m\u001b[1;32m      7\u001b[0m     \u001b[0;32mreturn\u001b[0m \u001b[0myear_model_overview_list\u001b[0m\u001b[0;34m\u001b[0m\u001b[0;34m\u001b[0m\u001b[0m\n",
      "\u001b[0;31mValueError\u001b[0m: list.remove(x): x not in list"
     ]
    }
   ],
   "source": [
    "pd.DataFrame(trims()).to_csv(index=False, header=None)\n",
    "\n",
    "trims = pd.read_csv()"
   ]
  },
  {
   "cell_type": "code",
   "execution_count": null,
   "id": "sensitive-decrease",
   "metadata": {},
   "outputs": [],
   "source": [
    "\n",
    "\n",
    "pd.DataFrame(trims()).to_csv( index=False, header=None)\n",
    "trims = pd.read_csv()\n",
    "\n",
    "def specifications():\n",
    "specifications_table = pd.DataFrame()\n",
    "for row in trims.iloc[:, 0]:\n",
    "soup = fetch(website, row)\n",
    "\n",
    "specifications/buick_enclave_2019_fwd-4dr-preferred\")\n",
    "\n",
    "specifications_df = pd.DataFrame(columns=[soup.find_all(\"title\") [0] .text[:-15]])\n",
    "\n",
    " \n",
    "\n",
    "msrp_text = soup.find_all(\"div\", {\"class\": \"price\"})[0]\n",
    "if len(msrp_text.find_all(\"a\")) :\n",
    "specifications_df.loc[\"MSRP\"] = msrp_text.find_all(\"a\")[0].text\n",
    "for div in soup.find_all(\"div\", {\"class\": \"specs-set-item\"}):\n",
    "row_name = div.find_all(\"span\")[0].text\n",
    "row_value = div.find_all(\"span\")[1].text\n",
    "specifications_df.loc[row_name] = row_value\n",
    "\n",
    " \n",
    "\n",
    " \n",
    "\n",
    " \n",
    "\n",
    " \n",
    "\n",
    " \n",
    "\n",
    "specifications_table = pd.concat([specifications_table, specifications_df], axis=1, sort=False)\n",
    "\n",
    "return specifications_table\n",
    "\n",
    "specifications().to_csv()\n",
    "\f"
   ]
  },
  {
   "cell_type": "code",
   "execution_count": null,
   "id": "signal-airport",
   "metadata": {},
   "outputs": [],
   "source": []
  }
 ],
 "metadata": {
  "kernelspec": {
   "display_name": "Python 3",
   "language": "python",
   "name": "python3"
  },
  "language_info": {
   "codemirror_mode": {
    "name": "ipython",
    "version": 3
   },
   "file_extension": ".py",
   "mimetype": "text/x-python",
   "name": "python",
   "nbconvert_exporter": "python",
   "pygments_lexer": "ipython3",
   "version": "3.9.2"
  }
 },
 "nbformat": 4,
 "nbformat_minor": 5
}
