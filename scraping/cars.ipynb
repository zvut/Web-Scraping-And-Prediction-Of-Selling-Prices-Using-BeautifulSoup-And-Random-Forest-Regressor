{
 "cells": [
  {
   "cell_type": "code",
   "execution_count": 1,
   "id": "amber-belle",
   "metadata": {},
   "outputs": [],
   "source": [
    "from bs4 import BeautifulSoup\n",
    "import requests\n",
    "import os\n",
    "import csv"
   ]
  },
  {
   "cell_type": "code",
   "execution_count": 2,
   "id": "exact-anxiety",
   "metadata": {},
   "outputs": [],
   "source": [
    "url=\"/home/astros/Desktop/regression/res.html\"\n",
    "soup=BeautifulSoup(open(url),\"html.parser\")\n"
   ]
  },
  {
   "cell_type": "code",
   "execution_count": 3,
   "id": "intensive-right",
   "metadata": {},
   "outputs": [
    {
     "name": "stdout",
     "output_type": "stream",
     "text": [
      "['res_files/i_014.jpg', 'res_files/i_004.jpg', 'res_files/i_015.jpg', 'res_files/i_006.jpg', 'res_files/i_007.jpg', 'res_files/i_002.jpg', 'res_files/i_011.jpg', 'res_files/i_019.jpg', 'res_files/i_021.jpg', 'res_files/i_016.jpg', 'res_files/i_012.jpg', 'res_files/i_020.jpg', 'res_files/i_003.jpg', 'res_files/i_008.jpg', 'res_files/i_017.jpg', 'res_files/i_010.jpg', 'res_files/i_018.jpg', 'res_files/i.jpg', 'res_files/i_009.jpg', 'res_files/i_013.jpg', 'res_files/i_005.jpg', 'res_files/n02085620_2937.jpg', 'res_files/n02085620_5093.jpg', 'res_files/n02085620_806.jpg', 'res_files/n02085620_2208.jpg', 'res_files/n02085620_3033.jpg', 'res_files/n02085620_11696.jpg', 'res_files/n02085620_3928.jpg', 'res_files/n02085620_588.jpg', 'res_files/n02085620_3651.jpg']\n",
      "[0.7375051, 0.7637236, 0.7881937, 0.83195966, 0.84003866, 0.88228154, 0.8873885, 0.8921495, 0.8928232, 0.9008432, 0.9054601, 0.91706955, 0.9603626, 0.99668664, 1.0330063, 1.0339646, 1.0585067, 1.0766653, 1.0862173, 1.0920807, 1.1280606, 1.2434127, 1.2712141, 1.2763861, 1.2806581, 1.282782, 1.2840707, 1.2869571, 1.2872639, 1.2889948]\n"
     ]
    }
   ],
   "source": [
    "images=soup.find_all('img')\n",
    "imgarr=[]\n",
    "for i in images:\n",
    "    imgarr.append(i['src'])\n",
    "del imgarr[0]\n",
    "\n",
    "figarr=[]\n",
    "figc=soup.find_all('figcaption')\n",
    "for f in figc:\n",
    "    s=str(f)\n",
    "    figarr.append(float(s[12:-13]))\n",
    "\n",
    "print(imgarr)\n",
    "print(figarr)"
   ]
  },
  {
   "cell_type": "code",
   "execution_count": 4,
   "id": "divided-drain",
   "metadata": {},
   "outputs": [],
   "source": [
    "file=open(\"predict.csv\",'w+')\n",
    "writer=csv.writer(file)\n",
    "writer.writerow(['name','value'])\n",
    "\n",
    "for i in range(1,len(imgarr)):\n",
    "    writer.writerow([imgarr[i],figarr[i]])\n",
    "\n",
    "file.close()"
   ]
  },
  {
   "cell_type": "code",
   "execution_count": null,
   "id": "preliminary-diesel",
   "metadata": {},
   "outputs": [],
   "source": []
  }
 ],
 "metadata": {
  "kernelspec": {
   "display_name": "Python 3",
   "language": "python",
   "name": "python3"
  },
  "language_info": {
   "codemirror_mode": {
    "name": "ipython",
    "version": 3
   },
   "file_extension": ".py",
   "mimetype": "text/x-python",
   "name": "python",
   "nbconvert_exporter": "python",
   "pygments_lexer": "ipython3",
   "version": "3.9.2"
  }
 },
 "nbformat": 4,
 "nbformat_minor": 5
}
